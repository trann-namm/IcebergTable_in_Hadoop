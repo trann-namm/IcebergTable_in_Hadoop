{
 "cells": [
  {
   "cell_type": "code",
   "execution_count": 1,
   "id": "6c513ee6-066f-42cb-842f-ae4449a4224e",
   "metadata": {},
   "outputs": [
    {
     "name": "stderr",
     "output_type": "stream",
     "text": [
      "Setting default log level to \"WARN\".\n",
      "To adjust logging level use sc.setLogLevel(newLevel). For SparkR, use setLogLevel(newLevel).\n",
      "24/12/16 09:15:16 WARN NativeCodeLoader: Unable to load native-hadoop library for your platform... using builtin-java classes where applicable\n"
     ]
    },
    {
     "name": "stdout",
     "output_type": "stream",
     "text": [
      "done\n"
     ]
    }
   ],
   "source": [
    "from pyspark.sql import SparkSession\n",
    "from pyspark import SparkConf\n",
    "from pyspark.sql.functions import col, regexp_extract,to_date, year, month, dayofmonth\n",
    "\n",
    "\n",
    "# Setup iceberg config\n",
    "conf = SparkConf().setAppName(\"MyApp\") \\\n",
    "    # .set(\"spark.sql.extensions\", \"org.apache.iceberg.spark.extensions.IcebergSparkSessionExtensions\") \\\n",
    "    # .set(f\"spark.sql.catalog.{catalog_name}\", \"org.apache.iceberg.spark.SparkCatalog\") \\\n",
    "    # .set('spark.jars', iceberg_spark_jar) \\\n",
    "    # .set(f\"spark.sql.catalog.{catalog_name}.warehouse\", warehouse_path) \\\n",
    "    # .set(f\"spark.sql.catalog.{catalog_name}.type\", \"hadoop\")\\\n",
    "    # .set(\"spark.sql.defaultCatalog\", catalog_name) \n",
    "\n",
    "# Create spark session\n",
    "spark = SparkSession.builder.config(conf=conf).getOrCreate()\n",
    "spark.sparkContext.setLogLevel(\"ERROR\")\n",
    "print(\"done\")"
   ]
  },
  {
   "cell_type": "code",
   "execution_count": 2,
   "id": "befdfcbe",
   "metadata": {},
   "outputs": [
    {
     "name": "stderr",
     "output_type": "stream",
     "text": [
      "                                                                                \r"
     ]
    },
    {
     "name": "stdout",
     "output_type": "stream",
     "text": [
      "root\n",
      " |-- index: integer (nullable = true)\n",
      " |-- Company: string (nullable = true)\n",
      " |-- Valuation: string (nullable = true)\n",
      " |-- Date_Joined: date (nullable = true)\n",
      " |-- Country: string (nullable = true)\n",
      " |-- City: string (nullable = true)\n",
      " |-- Industry: string (nullable = true)\n",
      " |-- Selector_Investors: string (nullable = true)\n",
      " |-- year: integer (nullable = true)\n",
      " |-- month: integer (nullable = true)\n",
      " |-- day: integer (nullable = true)\n",
      "\n"
     ]
    }
   ],
   "source": [
    "# read parquet file\n",
    "df = spark.read.parquet(\"hdfs://namenode:9000/iceberg/db/table/data/year=2023/month=1/day=1\")\n",
    "\n",
    "# show schema\n",
    "df.printSchema()"
   ]
  },
  {
   "cell_type": "code",
   "execution_count": 3,
   "id": "ac6290ef",
   "metadata": {},
   "outputs": [
    {
     "name": "stderr",
     "output_type": "stream",
     "text": [
      "                                                                                \r"
     ]
    },
    {
     "name": "stdout",
     "output_type": "stream",
     "text": [
      "+-----+---------------+---------+-----------+--------------------+--------+------------------+--------------------+----+-----+---+\n",
      "|index|        Company|Valuation|Date_Joined|             Country|    City|          Industry|  Selector_Investors|year|month|day|\n",
      "+-----+---------------+---------+-----------+--------------------+--------+------------------+--------------------+----+-----+---+\n",
      "|  618|          Tabby|    $1.50| 2023-01-01|United Arab Emirates|   Dubai|Financial Services|Arbor Ventures, S...|2023|    1|  1|\n",
      "|  823|     MiniMax AI|     $1.2| 2023-01-01|               China|Shanghai|   Enterprise Tech|HongShan, IDG Cap...|2023|    1|  1|\n",
      "|  830|Our Next Energy|    $1.20| 2023-01-01|       United States|    Novi|       Industrials|BMW i Ventures, B...|2023|    1|  1|\n",
      "|  896|          Halan|       $1| 2023-01-01|               Egypt|   Cairo|Financial Services|Middle East Ventu...|2023|    1|  1|\n",
      "|  618|          Tabby|    $1.50| 2023-01-01|United Arab Emirates|   Dubai|Financial Services|Arbor Ventures, S...|2023|    1|  1|\n",
      "|  823|     MiniMax AI|     $1.2| 2023-01-01|               China|Shanghai|   Enterprise Tech|HongShan, IDG Cap...|2023|    1|  1|\n",
      "|  830|Our Next Energy|    $1.20| 2023-01-01|       United States|    Novi|       Industrials|BMW i Ventures, B...|2023|    1|  1|\n",
      "|  896|          Halan|       $1| 2023-01-01|               Egypt|   Cairo|Financial Services|Middle East Ventu...|2023|    1|  1|\n",
      "|  618|          Tabby|    $1.50| 2023-01-01|United Arab Emirates|   Dubai|Financial Services|Arbor Ventures, S...|2023|    1|  1|\n",
      "|  823|     MiniMax AI|     $1.2| 2023-01-01|               China|Shanghai|   Enterprise Tech|HongShan, IDG Cap...|2023|    1|  1|\n",
      "|  830|Our Next Energy|    $1.20| 2023-01-01|       United States|    Novi|       Industrials|BMW i Ventures, B...|2023|    1|  1|\n",
      "|  896|          Halan|       $1| 2023-01-01|               Egypt|   Cairo|Financial Services|Middle East Ventu...|2023|    1|  1|\n",
      "|  618|          Tabby|    $1.50| 2023-01-01|United Arab Emirates|   Dubai|Financial Services|Arbor Ventures, S...|2023|    1|  1|\n",
      "|  823|     MiniMax AI|     $1.2| 2023-01-01|               China|Shanghai|   Enterprise Tech|HongShan, IDG Cap...|2023|    1|  1|\n",
      "|  830|Our Next Energy|    $1.20| 2023-01-01|       United States|    Novi|       Industrials|BMW i Ventures, B...|2023|    1|  1|\n",
      "|  896|          Halan|       $1| 2023-01-01|               Egypt|   Cairo|Financial Services|Middle East Ventu...|2023|    1|  1|\n",
      "+-----+---------------+---------+-----------+--------------------+--------+------------------+--------------------+----+-----+---+\n",
      "\n"
     ]
    }
   ],
   "source": [
    "\n",
    "# show data frame\n",
    "df.show()"
   ]
  },
  {
   "cell_type": "code",
   "execution_count": null,
   "id": "798226e8",
   "metadata": {},
   "outputs": [],
   "source": [
    "df_partition = spark.read.parquet(\n",
    "    \"hdfs://namenode:9000/user/hive/warehouse/web_logs_partitioned/year=2019/month=1/day=22\"\n",
    ")\n",
    "df_partition.show()\n"
   ]
  },
  {
   "cell_type": "code",
   "execution_count": null,
   "id": "72e52647",
   "metadata": {},
   "outputs": [],
   "source": [
    "streaming_df = spark.readStream \\\n",
    "    .format(\"parquet\") \\\n",
    "    .option(\"path\", \"hdfs://namenode:9000/user/hive/warehouse/web_logs_partitioned\") \\\n",
    "    .load()\n",
    "print(\"done\")"
   ]
  },
  {
   "cell_type": "code",
   "execution_count": null,
   "id": "7a4d93ba",
   "metadata": {},
   "outputs": [],
   "source": [
    "query = streaming_df.writeStream \\\n",
    "    .outputMode(\"append\") \\\n",
    "    .format(\"console\") \\\n",
    "    .start()"
   ]
  },
  {
   "cell_type": "code",
   "execution_count": null,
   "id": "27d61db9",
   "metadata": {},
   "outputs": [],
   "source": [
    "query.awaitTermination()"
   ]
  },
  {
   "cell_type": "code",
   "execution_count": null,
   "id": "5d5d05d2-c665-4ec7-b313-009266931abd",
   "metadata": {},
   "outputs": [],
   "source": []
  }
 ],
 "metadata": {
  "kernelspec": {
   "display_name": "Python 3 (ipykernel)",
   "language": "python",
   "name": "python3"
  },
  "language_info": {
   "codemirror_mode": {
    "name": "ipython",
    "version": 3
   },
   "file_extension": ".py",
   "mimetype": "text/x-python",
   "name": "python",
   "nbconvert_exporter": "python",
   "pygments_lexer": "ipython3",
   "version": "3.11.6"
  }
 },
 "nbformat": 4,
 "nbformat_minor": 5
}
